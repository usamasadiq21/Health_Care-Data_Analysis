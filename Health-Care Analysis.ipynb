{
 "cells": [
  {
   "cell_type": "markdown",
   "metadata": {},
   "source": [
    "### Health Care Data Analysis Project"
   ]
  },
  {
   "cell_type": "code",
   "execution_count": 107,
   "metadata": {},
   "outputs": [],
   "source": [
    "import pandas as pd\n",
    "import matplotlib.pyplot as plt\n",
    "import seaborn as sns"
   ]
  },
  {
   "cell_type": "code",
   "execution_count": 40,
   "metadata": {},
   "outputs": [
    {
     "data": {
      "text/html": [
       "<div>\n",
       "<style scoped>\n",
       "    .dataframe tbody tr th:only-of-type {\n",
       "        vertical-align: middle;\n",
       "    }\n",
       "\n",
       "    .dataframe tbody tr th {\n",
       "        vertical-align: top;\n",
       "    }\n",
       "\n",
       "    .dataframe thead th {\n",
       "        text-align: right;\n",
       "    }\n",
       "</style>\n",
       "<table border=\"1\" class=\"dataframe\">\n",
       "  <thead>\n",
       "    <tr style=\"text-align: right;\">\n",
       "      <th></th>\n",
       "      <th>Patient ID</th>\n",
       "      <th>Gender</th>\n",
       "      <th>Disease</th>\n",
       "      <th>Treatment</th>\n",
       "      <th>Hospital</th>\n",
       "      <th>Admission Date</th>\n",
       "      <th>Discharge Date</th>\n",
       "      <th>Treatment Status</th>\n",
       "      <th>Cause of Death</th>\n",
       "      <th>Date of Birth</th>\n",
       "    </tr>\n",
       "  </thead>\n",
       "  <tbody>\n",
       "    <tr>\n",
       "      <th>0</th>\n",
       "      <td>PAT-00001</td>\n",
       "      <td>Male</td>\n",
       "      <td>Tuberculosis</td>\n",
       "      <td>Dialysis</td>\n",
       "      <td>City General Hospital</td>\n",
       "      <td>2022-12-19</td>\n",
       "      <td>2023-01-16</td>\n",
       "      <td>Recovered</td>\n",
       "      <td>NaN</td>\n",
       "      <td>1973-06-05</td>\n",
       "    </tr>\n",
       "    <tr>\n",
       "      <th>1</th>\n",
       "      <td>PAT-00002</td>\n",
       "      <td>Female</td>\n",
       "      <td>Malaria</td>\n",
       "      <td>Dialysis</td>\n",
       "      <td>City General Hospital</td>\n",
       "      <td>2023-03-29</td>\n",
       "      <td>2023-04-21</td>\n",
       "      <td>Recovered</td>\n",
       "      <td>NaN</td>\n",
       "      <td>1998-11-21</td>\n",
       "    </tr>\n",
       "    <tr>\n",
       "      <th>2</th>\n",
       "      <td>PAT-00003</td>\n",
       "      <td>Female</td>\n",
       "      <td>Malaria</td>\n",
       "      <td>Surgery</td>\n",
       "      <td>City General Hospital</td>\n",
       "      <td>2022-09-16</td>\n",
       "      <td>2022-10-15</td>\n",
       "      <td>Recovered</td>\n",
       "      <td>NaN</td>\n",
       "      <td>1942-02-14</td>\n",
       "    </tr>\n",
       "    <tr>\n",
       "      <th>3</th>\n",
       "      <td>PAT-00004</td>\n",
       "      <td>Male</td>\n",
       "      <td>Asthma</td>\n",
       "      <td>Dialysis</td>\n",
       "      <td>City General Hospital</td>\n",
       "      <td>2022-02-07</td>\n",
       "      <td>2022-02-11</td>\n",
       "      <td>Recovered</td>\n",
       "      <td>NaN</td>\n",
       "      <td>1943-01-17</td>\n",
       "    </tr>\n",
       "    <tr>\n",
       "      <th>4</th>\n",
       "      <td>PAT-00005</td>\n",
       "      <td>Female</td>\n",
       "      <td>Diabetes</td>\n",
       "      <td>Physical Therapy</td>\n",
       "      <td>City General Hospital</td>\n",
       "      <td>2022-10-25</td>\n",
       "      <td>2022-10-30</td>\n",
       "      <td>Recovered</td>\n",
       "      <td>NaN</td>\n",
       "      <td>1979-07-28</td>\n",
       "    </tr>\n",
       "  </tbody>\n",
       "</table>\n",
       "</div>"
      ],
      "text/plain": [
       "  Patient ID  Gender       Disease         Treatment               Hospital  \\\n",
       "0  PAT-00001    Male  Tuberculosis          Dialysis  City General Hospital   \n",
       "1  PAT-00002  Female       Malaria          Dialysis  City General Hospital   \n",
       "2  PAT-00003  Female       Malaria           Surgery  City General Hospital   \n",
       "3  PAT-00004    Male        Asthma          Dialysis  City General Hospital   \n",
       "4  PAT-00005  Female      Diabetes  Physical Therapy  City General Hospital   \n",
       "\n",
       "  Admission Date Discharge Date Treatment Status Cause of Death Date of Birth  \n",
       "0     2022-12-19     2023-01-16        Recovered            NaN    1973-06-05  \n",
       "1     2023-03-29     2023-04-21        Recovered            NaN    1998-11-21  \n",
       "2     2022-09-16     2022-10-15        Recovered            NaN    1942-02-14  \n",
       "3     2022-02-07     2022-02-11        Recovered            NaN    1943-01-17  \n",
       "4     2022-10-25     2022-10-30        Recovered            NaN    1979-07-28  "
      ]
     },
     "execution_count": 40,
     "metadata": {},
     "output_type": "execute_result"
    }
   ],
   "source": [
    "# Load Data\n",
    "data = pd.read_csv(\"./Health_dataset.csv\")\n",
    "\n",
    "# Checking Imported Data\n",
    "data.head()"
   ]
  },
  {
   "cell_type": "markdown",
   "metadata": {},
   "source": [
    "1. Count the total number of patients."
   ]
  },
  {
   "cell_type": "code",
   "execution_count": 41,
   "metadata": {},
   "outputs": [
    {
     "name": "stdout",
     "output_type": "stream",
     "text": [
      "Total Patients => 8000.\n"
     ]
    }
   ],
   "source": [
    "tot_patients = data.shape[0]\n",
    "print(f\"Total Patients => {tot_patients}.\")"
   ]
  },
  {
   "cell_type": "markdown",
   "metadata": {},
   "source": [
    "2. How is the patient population distributed by gender."
   ]
  },
  {
   "cell_type": "code",
   "execution_count": 42,
   "metadata": {},
   "outputs": [
    {
     "name": "stdout",
     "output_type": "stream",
     "text": [
      "Gender Distribution\n",
      "Gender\n",
      "Male      5206\n",
      "Female    2794\n",
      "Name: count, dtype: int64.\n"
     ]
    }
   ],
   "source": [
    "gender_distribution = data[\"Gender\"].value_counts()\n",
    "\n",
    "print(f\"Gender Distribution\\n{gender_distribution}.\")"
   ]
  },
  {
   "cell_type": "code",
   "execution_count": 76,
   "metadata": {},
   "outputs": [
    {
     "data": {
      "image/png": "[encoded data removed]",
      "text/plain": [
       "<Figure size 500x400 with 1 Axes>"
      ]
     },
     "metadata": {},
     "output_type": "display_data"
    }
   ],
   "source": [
    "plt.figure(figsize= (5,4))\n",
    "\n",
    "gender_distribution.plot(kind=\"bar\", color=['skyblue', 'green'])\n",
    "\n",
    "# Adding Title\n",
    "plt.title(\"Gender Distribution\")\n",
    "\n",
    "# Adding Label on Y-axis\n",
    "plt.ylabel(\"Number of Patients\")\n",
    "\n",
    "# For Visualization of graph\n",
    "plt.show()\n"
   ]
  },
  {
   "cell_type": "markdown",
   "metadata": {},
   "source": [
    "3. Patient's Age group by visit."
   ]
  },
  {
   "cell_type": "code",
   "execution_count": 75,
   "metadata": {},
   "outputs": [
    {
     "name": "stdout",
     "output_type": "stream",
     "text": [
      "Age Group\n",
      "21-40     1646\n",
      "41-60     1608\n",
      "81-100    1603\n",
      "61-80     1580\n",
      "0-20      1533\n",
      "Name: count, dtype: int64\n"
     ]
    },
    {
     "data": {
      "image/png": "[encoded data removed]",
      "text/plain": [
       "<Figure size 500x400 with 1 Axes>"
      ]
     },
     "metadata": {},
     "output_type": "display_data"
    }
   ],
   "source": [
    "# 1. Convert Admission Date and DOB to proper format.\n",
    "data['Admission Date'] = pd.to_datetime(data['Admission Date'])\n",
    "data['Date of Birth'] = pd.to_datetime(data['Date of Birth'])\n",
    "\n",
    "# 2. Calculate patient's age by Admission Age\n",
    "data['Age'] = (data['Admission Date'] - data['Date of Birth']).dt.days / 365.25\n",
    "data['Age'] = data['Age'].astype(int)\n",
    "\n",
    "# 3. Define Age Bins\n",
    "age_bins = [0,20,40,60,80,100]\n",
    "age_labels = ['0-20', '21-40', '41-60', '61-80', '81-100']\n",
    "\n",
    "# 4. Creating new col \"Age Group\", to put individual age value into respective group.\n",
    "data['Age Group'] = pd.cut(data['Age'], bins=age_bins, labels=age_labels, right=False)\n",
    "\n",
    "# 5. Count Number of Patients in each Age Group\n",
    "patients_count = data['Age Group'].value_counts()\n",
    "\n",
    "# 6. Result\n",
    "print(patients_count)\n",
    "\n",
    "# 7. Visualize the Result.\n",
    "plt.figure(figsize= (5,4))\n",
    "\n",
    "patients_count.plot(kind='bar', color=['green'])\n",
    "\n",
    "plt.ylabel('Patients Count')\n",
    "plt.title('Patients Count By Age Group')\n",
    "plt.show()\n",
    "\n"
   ]
  },
  {
   "cell_type": "markdown",
   "metadata": {},
   "source": [
    "4. Which diseases are most commonly diagnosed among the patients ?"
   ]
  },
  {
   "cell_type": "code",
   "execution_count": 74,
   "metadata": {},
   "outputs": [
    {
     "data": {
      "text/plain": [
       "Text(0.5, 1.0, 'Disease Counts')"
      ]
     },
     "execution_count": 74,
     "metadata": {},
     "output_type": "execute_result"
    },
    {
     "data": {
      "image/png": "[encoded data removed]",
      "text/plain": [
       "<Figure size 500x400 with 1 Axes>"
      ]
     },
     "metadata": {},
     "output_type": "display_data"
    }
   ],
   "source": [
    "disease_counts = data['Disease'].value_counts()\n",
    "\n",
    "# Visualize Disease Count\n",
    "plt.figure(figsize= (5,4))\n",
    "\n",
    "disease_counts.plot(kind='bar', color=['orange'])\n",
    "\n",
    "# Chart Title\n",
    "plt.title('Disease Counts')\n"
   ]
  },
  {
   "cell_type": "markdown",
   "metadata": {},
   "source": [
    "4.1 If we want to see top 3 or 5 diseases."
   ]
  },
  {
   "cell_type": "code",
   "execution_count": null,
   "metadata": {},
   "outputs": [
    {
     "data": {
      "text/plain": [
       "Disease\n",
       "Malaria         1193\n",
       "Asthma           966\n",
       "Tuberculosis     864\n",
       "Diabetes         694\n",
       "Cancer           691\n",
       "Name: count, dtype: int64"
      ]
     },
     "execution_count": 46,
     "metadata": {},
     "output_type": "execute_result"
    }
   ],
   "source": [
    "# Below line will work as a parameter for nlargest() function.\n",
    "dynamic_disease_count = 5\n",
    "\n",
    "top_disease_count = data['Disease'].value_counts().nlargest(dynamic_disease_count)\n",
    "top_disease_count\n",
    "\n",
    "# Visualize Top 3 Diseases\n",
    "# top_disease_count.plot(kind='bar', color=['blue'])\n",
    "\n",
    "# plt.title('Disease Counts')\n",
    "# plt.show()"
   ]
  },
  {
   "cell_type": "markdown",
   "metadata": {},
   "source": [
    "4.2 Calculate Percentage of top 3 diseases out of Total diseases."
   ]
  },
  {
   "cell_type": "code",
   "execution_count": 47,
   "metadata": {},
   "outputs": [
    {
     "name": "stdout",
     "output_type": "stream",
     "text": [
      "Malaria: 14.91 %\n",
      "Asthma: 12.08 %\n",
      "Tuberculosis: 10.8 %\n",
      "Diabetes: 8.67 %\n",
      "Cancer: 8.64 %\n"
     ]
    }
   ],
   "source": [
    "# 1. Calculating Sum of Total Diseases.\n",
    "total_disease_count = data['Disease'].value_counts().sum()\n",
    "# print(total_disease_count)\n",
    "\n",
    "# 2. Calculating Percentage\n",
    "   # \"top_disease_count\" is from above cells. \n",
    "percentages_of_Top_Diseases = ((top_disease_count/total_disease_count) * 100).round(2)\n",
    "\n",
    "# print(f\"Percentages of Top Diseases\\n {percentages_of_Top_Diseases}%\")\n",
    "\n",
    "# 3. Alloting \"%\" sign to all values. \n",
    "for disease, i in percentages_of_Top_Diseases.items():\n",
    "    print(f\"{disease}: {i} %\")\n"
   ]
  },
  {
   "cell_type": "markdown",
   "metadata": {},
   "source": [
    "5. Are certain diseases more prevalent in one gender compared to the other ?"
   ]
  },
  {
   "cell_type": "code",
   "execution_count": 48,
   "metadata": {},
   "outputs": [
    {
     "name": "stdout",
     "output_type": "stream",
     "text": [
      "Disease with Gender Distribution\n",
      "Gender          Female  Male\n",
      "Disease                     \n",
      "Asthma             320   646\n",
      "COVID-19            53   104\n",
      "Cancer             239   452\n",
      "Dengue              27    42\n",
      "Diabetes           256   438\n",
      "HIV/AIDS           155   333\n",
      "Heart Disease      206   361\n",
      "Hypertension        65   108\n",
      "Kidney Failure     182   293\n",
      "Liver Disease       73   171\n",
      "Malaria            407   786\n",
      "Pneumonia           93   153\n",
      "Stroke             177   316\n",
      "Tuberculosis       302   562\n",
      "Typhoid            239   441\n"
     ]
    }
   ],
   "source": [
    "gender_disease = pd.crosstab(data['Disease'], data['Gender'])\n",
    "print('Disease with Gender Distribution')\n",
    "print(gender_disease)"
   ]
  },
  {
   "cell_type": "markdown",
   "metadata": {},
   "source": [
    "6. Calculate the duration of each patient stay and create a group to show numbers of patients in each group."
   ]
  },
  {
   "cell_type": "code",
   "execution_count": 49,
   "metadata": {},
   "outputs": [
    {
     "data": {
      "text/html": [
       "<div>\n",
       "<style scoped>\n",
       "    .dataframe tbody tr th:only-of-type {\n",
       "        vertical-align: middle;\n",
       "    }\n",
       "\n",
       "    .dataframe tbody tr th {\n",
       "        vertical-align: top;\n",
       "    }\n",
       "\n",
       "    .dataframe thead th {\n",
       "        text-align: right;\n",
       "    }\n",
       "</style>\n",
       "<table border=\"1\" class=\"dataframe\">\n",
       "  <thead>\n",
       "    <tr style=\"text-align: right;\">\n",
       "      <th></th>\n",
       "      <th>Admission Date</th>\n",
       "      <th>Discharge Date</th>\n",
       "      <th>Duration_of_Stay</th>\n",
       "    </tr>\n",
       "  </thead>\n",
       "  <tbody>\n",
       "    <tr>\n",
       "      <th>0</th>\n",
       "      <td>2022-12-19</td>\n",
       "      <td>2023-01-16</td>\n",
       "      <td>28</td>\n",
       "    </tr>\n",
       "    <tr>\n",
       "      <th>1</th>\n",
       "      <td>2023-03-29</td>\n",
       "      <td>2023-04-21</td>\n",
       "      <td>23</td>\n",
       "    </tr>\n",
       "    <tr>\n",
       "      <th>2</th>\n",
       "      <td>2022-09-16</td>\n",
       "      <td>2022-10-15</td>\n",
       "      <td>29</td>\n",
       "    </tr>\n",
       "    <tr>\n",
       "      <th>3</th>\n",
       "      <td>2022-02-07</td>\n",
       "      <td>2022-02-11</td>\n",
       "      <td>4</td>\n",
       "    </tr>\n",
       "    <tr>\n",
       "      <th>4</th>\n",
       "      <td>2022-10-25</td>\n",
       "      <td>2022-10-30</td>\n",
       "      <td>5</td>\n",
       "    </tr>\n",
       "  </tbody>\n",
       "</table>\n",
       "</div>"
      ],
      "text/plain": [
       "  Admission Date Discharge Date  Duration_of_Stay\n",
       "0     2022-12-19     2023-01-16                28\n",
       "1     2023-03-29     2023-04-21                23\n",
       "2     2022-09-16     2022-10-15                29\n",
       "3     2022-02-07     2022-02-11                 4\n",
       "4     2022-10-25     2022-10-30                 5"
      ]
     },
     "execution_count": 49,
     "metadata": {},
     "output_type": "execute_result"
    }
   ],
   "source": [
    "# 1. Convert \"Admission Date\" and \"Discharge Date\" to a proper date time format other than strings.\n",
    "data['Admission Date'] = pd.to_datetime(data['Admission Date'])\n",
    "data['Discharge Date'] = pd.to_datetime(data['Discharge Date'])\n",
    "\n",
    "# 2. Creating new column \"Duration of Stay\" and calculate difference b/w Discharge and Admission date to find duration.\n",
    "data['Duration_of_Stay'] = (data['Discharge Date'] - data['Admission Date']).dt.days\n",
    "\n",
    "data[['Admission Date', 'Discharge Date', 'Duration_of_Stay']].head()"
   ]
  },
  {
   "cell_type": "code",
   "execution_count": 50,
   "metadata": {},
   "outputs": [
    {
     "data": {
      "text/html": [
       "<div>\n",
       "<style scoped>\n",
       "    .dataframe tbody tr th:only-of-type {\n",
       "        vertical-align: middle;\n",
       "    }\n",
       "\n",
       "    .dataframe tbody tr th {\n",
       "        vertical-align: top;\n",
       "    }\n",
       "\n",
       "    .dataframe thead th {\n",
       "        text-align: right;\n",
       "    }\n",
       "</style>\n",
       "<table border=\"1\" class=\"dataframe\">\n",
       "  <thead>\n",
       "    <tr style=\"text-align: right;\">\n",
       "      <th></th>\n",
       "      <th>Admission Date</th>\n",
       "      <th>Discharge Date</th>\n",
       "      <th>Duration_of_Stay</th>\n",
       "      <th>Duration Groups</th>\n",
       "    </tr>\n",
       "  </thead>\n",
       "  <tbody>\n",
       "    <tr>\n",
       "      <th>0</th>\n",
       "      <td>2022-12-19</td>\n",
       "      <td>2023-01-16</td>\n",
       "      <td>28</td>\n",
       "      <td>Above 21 Days</td>\n",
       "    </tr>\n",
       "    <tr>\n",
       "      <th>1</th>\n",
       "      <td>2023-03-29</td>\n",
       "      <td>2023-04-21</td>\n",
       "      <td>23</td>\n",
       "      <td>Above 21 Days</td>\n",
       "    </tr>\n",
       "    <tr>\n",
       "      <th>2</th>\n",
       "      <td>2022-09-16</td>\n",
       "      <td>2022-10-15</td>\n",
       "      <td>29</td>\n",
       "      <td>Above 21 Days</td>\n",
       "    </tr>\n",
       "    <tr>\n",
       "      <th>3</th>\n",
       "      <td>2022-02-07</td>\n",
       "      <td>2022-02-11</td>\n",
       "      <td>4</td>\n",
       "      <td>4-7 Days</td>\n",
       "    </tr>\n",
       "    <tr>\n",
       "      <th>4</th>\n",
       "      <td>2022-10-25</td>\n",
       "      <td>2022-10-30</td>\n",
       "      <td>5</td>\n",
       "      <td>4-7 Days</td>\n",
       "    </tr>\n",
       "  </tbody>\n",
       "</table>\n",
       "</div>"
      ],
      "text/plain": [
       "  Admission Date Discharge Date  Duration_of_Stay Duration Groups\n",
       "0     2022-12-19     2023-01-16                28   Above 21 Days\n",
       "1     2023-03-29     2023-04-21                23   Above 21 Days\n",
       "2     2022-09-16     2022-10-15                29   Above 21 Days\n",
       "3     2022-02-07     2022-02-11                 4        4-7 Days\n",
       "4     2022-10-25     2022-10-30                 5        4-7 Days"
      ]
     },
     "execution_count": 50,
     "metadata": {},
     "output_type": "execute_result"
    }
   ],
   "source": [
    "# 3. Creating bins and labels.\n",
    "bins = [-1, 0, 3,7,14, float('inf')]\n",
    "duration_label = [\"Same Day\", \"1-3 Days\", \"4-7 Days\", \"8-14 Days\", \"Above 21 Days\"]\n",
    "data['Duration Groups'] = pd.cut(data['Duration_of_Stay'], bins = bins, labels = duration_label, right= False)\n",
    "\n",
    "data[['Admission Date', 'Discharge Date', 'Duration_of_Stay', 'Duration Groups']].head()\n"
   ]
  },
  {
   "cell_type": "markdown",
   "metadata": {},
   "source": [
    "6.1 Number of Patients in each group."
   ]
  },
  {
   "cell_type": "code",
   "execution_count": null,
   "metadata": {},
   "outputs": [
    {
     "name": "stdout",
     "output_type": "stream",
     "text": [
      "Patients in Each Group\n",
      " Duration Groups\n",
      "Above 21 Days    4530\n",
      "8-14 Days        1860\n",
      "4-7 Days         1054\n",
      "1-3 Days          556\n",
      "Same Day            0\n",
      "Name: count, dtype: int64\n"
     ]
    },
    {
     "data": {
      "image/png": "[encoded data removed]",
      "text/plain": [
       "<Figure size 500x400 with 1 Axes>"
      ]
     },
     "metadata": {},
     "output_type": "display_data"
    }
   ],
   "source": [
    "total_patient_in_group = data['Duration Groups'].value_counts()\n",
    "\n",
    "print(f'Patients in Each Group\\n {total_patient_in_group}')\n",
    "\n",
    "# Chart Visualization\n",
    "plt.figure(figsize= (5,4))\n",
    "\n",
    "total_patient_in_group.plot(kind='bar', color=['maroon'])\n",
    "plt.title('Number of Patients By Duration of Admission ')\n",
    "plt.ylabel('Number of Patients')\n",
    "plt.show()\n",
    "\n",
    "\n",
    "\n",
    "\n"
   ]
  },
  {
   "cell_type": "markdown",
   "metadata": {},
   "source": [
    "7. For any records with a recorded course of death, analyze pattern to identify risk factor."
   ]
  },
  {
   "cell_type": "code",
   "execution_count": 79,
   "metadata": {},
   "outputs": [
    {
     "name": "stdout",
     "output_type": "stream",
     "text": [
      "Cause of Death\n",
      "Multiple Organ Failure    114\n",
      "Respiratory Failure       109\n",
      "Cardiac Arrest            102\n",
      "Septic Shock               94\n",
      "Name: count, dtype: int64\n"
     ]
    },
    {
     "data": {
      "image/png": "[encoded data removed]",
      "text/plain": [
       "<Figure size 500x400 with 1 Axes>"
      ]
     },
     "metadata": {},
     "output_type": "display_data"
    }
   ],
   "source": [
    "# 1. Filter \"Cause of Death\" column by dropping N/A values.\n",
    "    # subset='Cause of Death', only considers \"Cause of Death\" Column\n",
    "death_cause = data.dropna(subset='Cause of Death')\n",
    "\n",
    "count_cause = death_cause['Cause of Death'].value_counts()\n",
    "\n",
    "print(count_cause)\n",
    "\n",
    "# 2. Visualize The Data\n",
    "\n",
    "plt.figure(figsize= (5,4)) # Adjust figure size\n",
    "count_cause.plot(kind='bar', color=['purple'])\n",
    "plt.title('Most common Causes of Deaths')\n",
    "plt.ylabel('Number of Deaths')\n",
    "plt.show()\n",
    "\n"
   ]
  },
  {
   "cell_type": "markdown",
   "metadata": {},
   "source": [
    "8. What are the percentage of the following patients: Deceased, under-treatment, and recovered patients."
   ]
  },
  {
   "cell_type": "code",
   "execution_count": 90,
   "metadata": {},
   "outputs": [
    {
     "name": "stdout",
     "output_type": "stream",
     "text": [
      "Treatment Status\n",
      "Recovered          6819\n",
      "Under Treatment     762\n",
      "Deceased            419\n",
      "Name: count, dtype: int64\n",
      "Total Patients => 8000\n"
     ]
    }
   ],
   "source": [
    "# 1. Checking number of patients against treatment statuses.\n",
    "treatment_status = data['Treatment Status'].value_counts()\n",
    "print(treatment_status)\n",
    "\n",
    "# 2. Total Number of Patients\n",
    "total_patients = data.shape[0]\n",
    "print(f'Total Patients => {total_patients}') "
   ]
  },
  {
   "cell_type": "code",
   "execution_count": 103,
   "metadata": {},
   "outputs": [
    {
     "name": "stdout",
     "output_type": "stream",
     "text": [
      "Recovered = 85.24 %\n",
      "Under Treatment = 9.52 %\n",
      "Deceased = 5.24 %\n"
     ]
    },
    {
     "data": {
      "text/plain": [
       "<Axes: title={'center': 'Treatment of Patients Against Number of Patients'}, xlabel='Treatment Status'>"
      ]
     },
     "execution_count": 103,
     "metadata": {},
     "output_type": "execute_result"
    },
    {
     "data": {
      "image/png": "[encoded data removed]",
      "text/plain": [
       "<Figure size 500x400 with 1 Axes>"
      ]
     },
     "metadata": {},
     "output_type": "display_data"
    }
   ],
   "source": [
    "# 3. Calculating Percentage\n",
    "percentage_of_Treatment_Status = ((treatment_status / total_patients) * 100).round(2)\n",
    "percentage_of_Treatment_Status\n",
    "\n",
    "for status_desc, num in percentage_of_Treatment_Status.items():\n",
    "    print(f'{status_desc} = {num} %')\n",
    "\n",
    "\n",
    "# 4. Visualization Charts\n",
    "\n",
    "plt.figure(figsize= (5,4))\n",
    "plt.title('Treatment of Patients Against Number of Patients')\n",
    "percentage_of_Treatment_Status.plot(kind='bar')\n"
   ]
  },
  {
   "cell_type": "markdown",
   "metadata": {},
   "source": [
    "9. What are the peak days of the week on the monthly basis for admissions and discharges ? "
   ]
  },
  {
   "cell_type": "code",
   "execution_count": null,
   "metadata": {},
   "outputs": [],
   "source": []
  },
  {
   "cell_type": "code",
   "execution_count": null,
   "metadata": {},
   "outputs": [],
   "source": []
  },
  {
   "cell_type": "code",
   "execution_count": null,
   "metadata": {},
   "outputs": [],
   "source": []
  },
  {
   "cell_type": "code",
   "execution_count": null,
   "metadata": {},
   "outputs": [],
   "source": []
  },
  {
   "cell_type": "code",
   "execution_count": null,
   "metadata": {},
   "outputs": [],
   "source": []
  },
  {
   "cell_type": "code",
   "execution_count": null,
   "metadata": {},
   "outputs": [],
   "source": []
  },
  {
   "cell_type": "code",
   "execution_count": null,
   "metadata": {},
   "outputs": [],
   "source": []
  },
  {
   "cell_type": "code",
   "execution_count": null,
   "metadata": {},
   "outputs": [],
   "source": []
  },
  {
   "cell_type": "code",
   "execution_count": null,
   "metadata": {},
   "outputs": [],
   "source": []
  }
 ],
 "metadata": {
  "kernelspec": {
   "display_name": "Python 3",
   "language": "python",
   "name": "python3"
  },
  "language_info": {
   "codemirror_mode": {
    "name": "ipython",
    "version": 3
   },
   "file_extension": ".py",
   "mimetype": "text/x-python",
   "name": "python",
   "nbconvert_exporter": "python",
   "pygments_lexer": "ipython3",
   "version": "3.12.3"
  }
 },
 "nbformat": 4,
 "nbformat_minor": 2
}
